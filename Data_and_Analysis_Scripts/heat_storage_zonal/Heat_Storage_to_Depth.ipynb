{
 "cells": [
  {
   "cell_type": "code",
   "execution_count": 1,
   "id": "d2494b2c",
   "metadata": {},
   "outputs": [
    {
     "name": "stdout",
     "output_type": "stream",
     "text": [
      "done\n"
     ]
    },
    {
     "name": "stderr",
     "output_type": "stream",
     "text": [
      "/tmp/ipykernel_14595/3887738247.py:20: DeprecationWarning: Please use `gaussian_filter` from the `scipy.ndimage` namespace, the `scipy.ndimage.filters` namespace is deprecated.\n",
      "  from scipy.ndimage.filters import gaussian_filter\n"
     ]
    }
   ],
   "source": [
    "## Libraries ##\n",
    "\n",
    "import numpy as np\n",
    "import xarray as xr\n",
    "import matplotlib.pyplot as plt\n",
    "import cartopy.crs as ccrs\n",
    "import pandas\n",
    "import scipy.optimize as sci\n",
    "from scipy.stats import linregress\n",
    "import scipy.integrate as intz\n",
    "from scipy import signal\n",
    "import matplotlib.colors as mcolors\n",
    "import matplotlib.lines as mlines\n",
    "from scipy.integrate import trapz, cumtrapz\n",
    "\n",
    "print(\"done\")"
   ]
  },
  {
   "cell_type": "code",
   "execution_count": 2,
   "id": "d41856b5",
   "metadata": {},
   "outputs": [],
   "source": [
    "experiment2 = 'abrupt-2xCO2'\n",
    "experiment4 = 'abrupt-4xCO2'\n",
    "\n",
    "experiment_list = [experiment2, experiment4]\n",
    "\n",
    "model_list1 = ['CanESM5', 'CESM2', 'MIROC6'] # models with rtmt\n",
    "\n",
    "model_list2 = ['CNRM-CM6-1', 'GISS-E2-1-G', 'GISS-E2-1-H', 'IPSL-CM6A-LR', 'MRI-ESM2-0'] # models without rtmt\n",
    "\n",
    "model_list  = model_list1 + model_list2 # total model list"
   ]
  },
  {
   "cell_type": "code",
   "execution_count": 13,
   "id": "8c55c599",
   "metadata": {},
   "outputs": [],
   "source": [
    "heat_storage = {}\n",
    "levels = {} # vertical coord\n",
    "lats = {}\n",
    "percents = ['50', '55', '80']\n",
    "\n",
    "for exp in experiment_list:\n",
    "    heat_storage[exp] = {}\n",
    "\n",
    "    for model in model_list:\n",
    "        heat_storage[exp][model] = {}\n",
    "        \n",
    "        try:\n",
    "            levels[model] = np.loadtxt('%s_levels.csv' % model, delimiter=\",\", dtype=float)\n",
    "            \n",
    "        except FileNotFoundError: # data is not available for this model\n",
    "                continue\n",
    "                \n",
    "        try:\n",
    "            lats[model] = np.loadtxt('%s_latitude.csv' % model, delimiter=\",\", dtype=float)\n",
    "            \n",
    "        except FileNotFoundError: # data is not available for this model\n",
    "                continue\n",
    "        \n",
    "        try: # reshape into 2D array; either has 150 or 151 years\n",
    "            heat_storage[exp][model] = np.reshape(np.loadtxt('heat_storage_%s_%s.csv' % (model, exp), delimiter=\",\", dtype=float), (150, len(levels[model])-1, len(lats[model])))\n",
    "            \n",
    "        except ValueError:\n",
    "            heat_storage[exp][model] = np.reshape(np.loadtxt('heat_storage_%s_%s.csv' % (model, exp), delimiter=\",\", dtype=float), (151, len(levels[model])-1, len(lats[model])))\n",
    "           \n",
    "        except FileNotFoundError: # data is not available for this model\n",
    "            print('No Heat Storage %s Data Found for %s' % (exp, model))\n",
    "            continue"
   ]
  },
  {
   "cell_type": "code",
   "execution_count": 14,
   "id": "9be483ed",
   "metadata": {},
   "outputs": [],
   "source": [
    "def find_percent_hc(heat_content_array, level_values, lat_values, runtime, percent):\n",
    "    # finds subgrid depth at given percent\n",
    "    # heat_content_array should be time vs depth\n",
    "    # level_values should be 1D array of depths\n",
    "    # runtime (int) should be runtime available for this model and simulation\n",
    "    # percent (float)\n",
    "    \n",
    "    percent_levels = np.empty(180)\n",
    "\n",
    "    \n",
    "    for i, lat in enumerate(lat_values):\n",
    "        hc_i = 0\n",
    "        hc_j = 0\n",
    "        \n",
    "        \n",
    "        if np.isnan(np.nanmean(heat_content_array)):\n",
    "            percent_levels[i] = np.nan\n",
    "            #print('all nan at latitude %d' % i)\n",
    "            \n",
    "        for j, L in enumerate(level_values):\n",
    "                \n",
    "            hc = heat_content_array[j, i] \n",
    "            #print(i, j, hc)\n",
    "            \n",
    "            if np.isnan(hc):\n",
    "                #print('single nan value at %d,%d' % (i, j))\n",
    "                continue\n",
    "            \n",
    "            if hc < percent:\n",
    "                hc_j = hc\n",
    "                continue\n",
    "                \n",
    "            elif hc >= percent:\n",
    "                L_i = L\n",
    "                L_j = level_values[j-1]\n",
    "                hc_i = hc\n",
    "                \n",
    "                m, b, r, p, std = linregress([L_j, L_i], [hc_j, hc_i])\n",
    "\n",
    "                L_ij  = (percent - b)/m\n",
    "                #print(L_ij, i, j)\n",
    "                \n",
    "                percent_levels[i] = L_ij\n",
    "                #print(percent_levels)\n",
    "                break\n",
    "\n",
    "                \n",
    "    print(np.shape(percent_levels))  \n",
    "    \n",
    "    return percent_levels # returns level that \"percent\" occurs at for every time"
   ]
  },
  {
   "cell_type": "code",
   "execution_count": 16,
   "id": "b3d2404b",
   "metadata": {},
   "outputs": [
    {
     "name": "stdout",
     "output_type": "stream",
     "text": [
      "CanESM5\n"
     ]
    },
    {
     "name": "stderr",
     "output_type": "stream",
     "text": [
      "/tmp/ipykernel_14595/1767841.py:30: RuntimeWarning: Mean of empty slice\n",
      "  array1 = find_percent_hc(np.nanmean(heat_storage['abrupt-4xCO2'][model][21:150, :, :], axis=0), levs, np.arange(180), time4, 0.55)\n"
     ]
    },
    {
     "name": "stdout",
     "output_type": "stream",
     "text": [
      "(180,)\n",
      "(180,)\n",
      "done CanESM5\n",
      "CESM2\n",
      "(180,)\n"
     ]
    },
    {
     "name": "stderr",
     "output_type": "stream",
     "text": [
      "/tmp/ipykernel_14595/1767841.py:31: RuntimeWarning: Mean of empty slice\n",
      "  array2 = find_percent_hc(np.nanmean(heat_storage['abrupt-2xCO2'][model][21:150, :, :], axis=0), levs, np.arange(180), time2, 0.55)\n"
     ]
    },
    {
     "name": "stdout",
     "output_type": "stream",
     "text": [
      "(180,)\n",
      "done CESM2\n",
      "done MIROC6\n",
      "CNRM-CM6-1\n",
      "(180,)\n",
      "(180,)\n",
      "done CNRM-CM6-1\n",
      "GISS-E2-1-G\n",
      "(180,)\n",
      "(180,)\n",
      "done GISS-E2-1-G\n",
      "GISS-E2-1-H\n",
      "(180,)\n",
      "(180,)\n",
      "done GISS-E2-1-H\n",
      "IPSL-CM6A-LR\n",
      "(180,)\n",
      "(180,)\n",
      "done IPSL-CM6A-LR\n",
      "MRI-ESM2-0\n",
      "(180,)\n",
      "(180,)\n",
      "done MRI-ESM2-0\n"
     ]
    }
   ],
   "source": [
    "## find depth at which ocean contains 80% of total heat content\n",
    "## IPSL should only be missing 1999 beyond. Missing 2 files. Fix like CanESM5, might need to sortby earlier\n",
    "\n",
    "import warnings\n",
    "warnings.filterwarnings(\"ignore\", category=DeprecationWarning)\n",
    "warnings.filterwarnings(\"ignore\", category=FutureWarning)\n",
    "\n",
    "levels_55p_4x = {}\n",
    "levels_55p_2x = {}\n",
    "\n",
    "for model in model_list:\n",
    "    if model == 'MIROC6':\n",
    "        print('done', model)\n",
    "        continue\n",
    "        \n",
    "    print(model)\n",
    "        \n",
    "    levs = levels[model][1:]\n",
    "    \n",
    "    time4 = 150 #np.shape(data4x_GL[model])[0]\n",
    "    \n",
    "    if model == 'IPSL-CM6A-LR':\n",
    "        time2 = 130\n",
    "    else:\n",
    "        time2 = 150 #np.shape(data2x_GL[model])[0]\n",
    "    \n",
    "    levels_55p_4x[model] = {}\n",
    "    levels_55p_2x[model] = {}\n",
    "    \n",
    "    array1 = find_percent_hc(np.nanmean(heat_storage['abrupt-4xCO2'][model][21:150, :, :], axis=0), levs, np.arange(180), time4, 0.55)\n",
    "    array2 = find_percent_hc(np.nanmean(heat_storage['abrupt-2xCO2'][model][21:150, :, :], axis=0), levs, np.arange(180), time2, 0.55)\n",
    "\n",
    "    levels_55p_4x[model] = array1\n",
    "    levels_55p_2x[model] = array2\n",
    "    \n",
    "    #array1.tofile('depth_55_%s_%s.csv' % (model, 'abrupt-4xCO2'), sep=',')\n",
    "    #array2.tofile('depth_55_%s_%s.csv' % (model, 'abrupt-2xCO2'), sep=',')\n",
    "    \n",
    "    print('done', model)"
   ]
  },
  {
   "cell_type": "code",
   "execution_count": null,
   "id": "50f699be",
   "metadata": {},
   "outputs": [],
   "source": []
  }
 ],
 "metadata": {
  "kernelspec": {
   "display_name": "Python (dask_env)",
   "language": "python",
   "name": "dask_env"
  },
  "language_info": {
   "codemirror_mode": {
    "name": "ipython",
    "version": 3
   },
   "file_extension": ".py",
   "mimetype": "text/x-python",
   "name": "python",
   "nbconvert_exporter": "python",
   "pygments_lexer": "ipython3",
   "version": "3.10.9"
  }
 },
 "nbformat": 4,
 "nbformat_minor": 5
}
